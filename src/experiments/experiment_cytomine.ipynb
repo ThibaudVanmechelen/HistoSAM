{
 "cells": [
  {
   "cell_type": "code",
   "execution_count": 4,
   "metadata": {},
   "outputs": [],
   "source": [
    "import logging\n",
    "import os\n",
    "from argparse import ArgumentParser\n",
    "from math import floor\n",
    "from tomllib import load\n",
    "\n",
    "import matplotlib.pyplot as plt\n",
    "import numpy as np\n",
    "from box import Box\n",
    "from cytomine import Cytomine\n",
    "from cytomine.models import (\n",
    "    Annotation,\n",
    "    AnnotationCollection,\n",
    "    ImageInstance,\n",
    "    ImageInstanceCollection,\n",
    "    UserCollection\n",
    ")"
   ]
  },
  {
   "cell_type": "code",
   "execution_count": 2,
   "metadata": {},
   "outputs": [],
   "source": [
    "def load_config(config_path : str):\n",
    "    \"\"\"Loads a config file in toml format. Returns a dictionary with the config values.\"\"\"\n",
    "    with open(config_path, \"rb\") as f:\n",
    "        config = load(f)\n",
    "\n",
    "    return Box(config)"
   ]
  },
  {
   "cell_type": "code",
   "execution_count": null,
   "metadata": {},
   "outputs": [],
   "source": [
    "keys = load_config('../keys.toml')\n",
    "p_id = 51066666\n",
    "\n",
    "\n",
    "with Cytomine(keys['host'], keys['public_key'], keys['private_key'], verbose = logging.INFO) as cytomine:\n",
    "    users = UserCollection().fetch_with_filter(\"project\", p_id)\n",
    "    annotations = AnnotationCollection()\n",
    "    annotations.project = p_id\n",
    "    print(users)\n",
    "\n",
    "    for user in users:\n",
    "        print(user.firstname, user.id)\n",
    "\n",
    "    \n",
    "\n",
    "    print(cytomine.current_user)"
   ]
  }
 ],
 "metadata": {
  "kernelspec": {
   "display_name": "TFE",
   "language": "python",
   "name": "python3"
  },
  "language_info": {
   "codemirror_mode": {
    "name": "ipython",
    "version": 3
   },
   "file_extension": ".py",
   "mimetype": "text/x-python",
   "name": "python",
   "nbconvert_exporter": "python",
   "pygments_lexer": "ipython3",
   "version": "3.12.7"
  }
 },
 "nbformat": 4,
 "nbformat_minor": 2
}
