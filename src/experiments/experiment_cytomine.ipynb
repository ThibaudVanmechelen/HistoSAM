{
 "cells": [
  {
   "cell_type": "code",
   "execution_count": 1,
   "metadata": {},
   "outputs": [],
   "source": [
    "import logging\n",
    "import os\n",
    "from argparse import ArgumentParser\n",
    "from math import floor\n",
    "from tomllib import load\n",
    "\n",
    "import matplotlib.pyplot as plt\n",
    "import numpy as np\n",
    "from box import Box\n",
    "from cytomine import Cytomine\n",
    "from cytomine.models import (\n",
    "    Annotation,\n",
    "    AnnotationCollection,\n",
    "    ImageInstance,\n",
    "    ImageInstanceCollection,\n",
    "    UserCollection,\n",
    "    TermCollection\n",
    ")"
   ]
  },
  {
   "cell_type": "code",
   "execution_count": 2,
   "metadata": {},
   "outputs": [],
   "source": [
    "def load_config(config_path : str):\n",
    "    \"\"\"Loads a config file in toml format. Returns a dictionary with the config values.\"\"\"\n",
    "    with open(config_path, \"rb\") as f:\n",
    "        config = load(f)\n",
    "\n",
    "    return Box(config)"
   ]
  },
  {
   "cell_type": "code",
   "execution_count": null,
   "metadata": {},
   "outputs": [],
   "source": [
    "keys = load_config('../keys.toml')\n",
    "p_id = 24796414\n",
    "\n",
    "\n",
    "with Cytomine(keys['host'], keys['public_key'], keys['private_key'], verbose = logging.INFO) as cytomine:\n",
    "    users = UserCollection().fetch_with_filter(\"project\", p_id)\n",
    "    annotations = AnnotationCollection()\n",
    "    annotations.project = p_id\n",
    "    print(users)\n",
    "\n",
    "    for user in users:\n",
    "        print(user.firstname, user.id)\n",
    "\n",
    "    print(cytomine.current_user)"
   ]
  },
  {
   "cell_type": "code",
   "execution_count": null,
   "metadata": {},
   "outputs": [],
   "source": [
    "keys = load_config('../keys.toml')\n",
    "p_id = 24796414\n",
    "\n",
    "with Cytomine(keys['host'], keys['public_key'], keys['private_key'], verbose = logging.INFO) as cytomine:\n",
    "    all_terms = TermCollection().fetch_with_filter(\"project\", p_id)\n",
    "\n",
    "    print(all_terms)\n",
    "\n",
    "    for term in all_terms:\n",
    "        print(\"Term ID: {} | Name: {} | Color: {}\".format(term.id, term.name, term.color))\n",
    "        print(type(term.id))"
   ]
  },
  {
   "cell_type": "code",
   "execution_count": null,
   "metadata": {},
   "outputs": [],
   "source": [
    "from shapely import wkt\n",
    "from shapely.affinity import affine_transform\n",
    "\n",
    "with Cytomine(keys['host'], keys['public_key'], keys['private_key'], verbose = logging.INFO) as cytomine:\n",
    "        annotations = AnnotationCollection()\n",
    "        annotations.project = 10688948\n",
    "        annotations.user = 563220523\n",
    "        annotations.showWKT = True  # Ask to return WKT location (geometry) in the response\n",
    "        annotations.showMeta = True  # Ask to return meta information (id, ...) in the response\n",
    "\n",
    "        annotations.fetch()\n",
    "        print(annotations)\n",
    "\n",
    "        for annotation in annotations:\n",
    "            print(\"ID: {} | Image: {} | Project: {} | Term: {} | User: {} | Area: {} | Perimeter: {} | WKT: {}\".format(\n",
    "                annotation.id,\n",
    "                annotation.image,\n",
    "                annotation.project,\n",
    "                annotation.term,\n",
    "                annotation.user,\n",
    "                annotation.area,\n",
    "                annotation.perimeter,\n",
    "                annotation.location\n",
    "            ))\n",
    "\n",
    "            # Annotation location is the annotation geometry in WKT format.\n",
    "            # See https://en.wikipedia.org/wiki/Well-known_text_representation_of_geometry\n",
    "\n",
    "            # You can use Shapely library to read geometry in WKT format. See https://shapely.readthedocs.io/en/latest/\n",
    "            # See 'shapely.wkt.loads(wkt)' function in Shapely library.\n",
    "            print(f\"wkt format: {annotation.location}\")\n",
    "            print(f\"Type of wkt: {type(annotation.location)}\")\n",
    "            geometry = wkt.loads(annotation.location)\n",
    "            print(\"Geometry from Shapely: {}\".format(geometry))\n",
    "            print(f\"type Shapely: {type(geometry)}\")"
   ]
  }
 ],
 "metadata": {
  "kernelspec": {
   "display_name": "TFE",
   "language": "python",
   "name": "python3"
  },
  "language_info": {
   "codemirror_mode": {
    "name": "ipython",
    "version": 3
   },
   "file_extension": ".py",
   "mimetype": "text/x-python",
   "name": "python",
   "nbconvert_exporter": "python",
   "pygments_lexer": "ipython3",
   "version": "3.12.7"
  }
 },
 "nbformat": 4,
 "nbformat_minor": 2
}
